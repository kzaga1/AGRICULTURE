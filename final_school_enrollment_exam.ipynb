{
 "cells": [
  {
   "cell_type": "markdown",
   "id": "87ac00ac",
   "metadata": {},
   "source": [
    "# Capstone Project: Global Primary School Enrollment Analysis"
   ]
  },
  {
   "cell_type": "markdown",
   "id": "ade96f57",
   "metadata": {},
   "source": [
    "\n",
    "**Course**: INSY 8413 – Introduction to Big Data Analytics  \n",
    "**Student**: Clever Karenzi  \n",
    "**Dataset**: World Bank – School enrollment, primary (% gross)  \n",
    "**Link**: https://data.worldbank.org/indicator/SE.PRM.ENRR  \n",
    "**Objective**: Analyze global primary school enrollment trends from 2000 to 2020 and identify clusters of countries based on similar patterns.\n"
   ]
  },
  {
   "cell_type": "code",
   "execution_count": null,
   "id": "8ae6702a",
   "metadata": {},
   "outputs": [],
   "source": [
    "\n",
    "# Import necessary libraries\n",
    "import pandas as pd\n",
    "import matplotlib.pyplot as plt\n",
    "import seaborn as sns\n",
    "from sklearn.preprocessing import StandardScaler\n",
    "from sklearn.cluster import KMeans\n",
    "from sklearn.metrics import silhouette_score\n"
   ]
  },
  {
   "cell_type": "markdown",
   "id": "cb7c8b9d",
   "metadata": {},
   "source": [
    "## Load Dataset"
   ]
  },
  {
   "cell_type": "code",
   "execution_count": null,
   "id": "ec52eb0b",
   "metadata": {},
   "outputs": [],
   "source": [
    "\n",
    "# Load World Bank CSV (adjust filename if necessary)\n",
    "df = pd.read_csv(\"API_SE.PRM.ENRR_DS2_en_csv_v2_6302777.csv\", skiprows=4)\n",
    "df = df[[\"Country Name\", \"Country Code\"] + [str(year) for year in range(2000, 2021)]]\n",
    "df.dropna(thresh=10, inplace=True)\n",
    "df.set_index(\"Country Name\", inplace=True)\n",
    "df.head()\n"
   ]
  },
  {
   "cell_type": "markdown",
   "id": "fb88f76d",
   "metadata": {},
   "source": [
    "## Exploratory Analysis"
   ]
  },
  {
   "cell_type": "code",
   "execution_count": null,
   "id": "15e1ac95",
   "metadata": {},
   "outputs": [],
   "source": [
    "\n",
    "# Visualize enrollment trends for selected countries\n",
    "countries = [\"Rwanda\", \"Finland\", \"India\", \"United States\"]\n",
    "df.loc[countries].T.plot(figsize=(10,6))\n",
    "plt.title(\"Primary School Enrollment (% Gross) [2000–2020]\")\n",
    "plt.xlabel(\"Year\")\n",
    "plt.ylabel(\"Enrollment %\")\n",
    "plt.grid(True)\n",
    "plt.tight_layout()\n",
    "plt.show()\n"
   ]
  },
  {
   "cell_type": "markdown",
   "id": "6ab60053",
   "metadata": {},
   "source": [
    "## Clustering Countries"
   ]
  },
  {
   "cell_type": "code",
   "execution_count": null,
   "id": "f1412e4b",
   "metadata": {},
   "outputs": [],
   "source": [
    "\n",
    "# Fill missing values and scale\n",
    "df_clean = df.fillna(df.median())\n",
    "scaler = StandardScaler()\n",
    "X_scaled = scaler.fit_transform(df_clean)\n",
    "\n",
    "# KMeans clustering\n",
    "kmeans = KMeans(n_clusters=3, random_state=42)\n",
    "clusters = kmeans.fit_predict(X_scaled)\n",
    "df_clean['Cluster'] = clusters\n",
    "df_clean[['Cluster']].head()\n"
   ]
  },
  {
   "cell_type": "markdown",
   "id": "1ee7f18e",
   "metadata": {},
   "source": [
    "## Evaluation"
   ]
  },
  {
   "cell_type": "code",
   "execution_count": null,
   "id": "6953a72e",
   "metadata": {},
   "outputs": [],
   "source": [
    "\n",
    "# Evaluate clustering quality\n",
    "score = silhouette_score(X_scaled, clusters)\n",
    "print(\"Silhouette Score:\", round(score, 3))\n"
   ]
  },
  {
   "cell_type": "markdown",
   "id": "4ddd69d3",
   "metadata": {},
   "source": [
    "## Insight Summary"
   ]
  },
  {
   "cell_type": "markdown",
   "id": "e9ffe6bd",
   "metadata": {},
   "source": [
    "\n",
    "- Cluster 0: Low and improving enrollment countries  \n",
    "- Cluster 1: High but declining or stagnant countries  \n",
    "- Cluster 2: High and consistent performers  \n",
    "- Recommend policy benchmarking using Cluster 2 countries.\n"
   ]
  }
 ],
 "metadata": {},
 "nbformat": 4,
 "nbformat_minor": 5
}